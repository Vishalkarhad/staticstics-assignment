{
  "nbformat": 4,
  "nbformat_minor": 0,
  "metadata": {
    "colab": {
      "provenance": []
    },
    "kernelspec": {
      "name": "python3",
      "display_name": "Python 3"
    },
    "language_info": {
      "name": "python"
    }
  },
  "cells": [
    {
      "cell_type": "markdown",
      "source": [
        "1. Generate a list of 100 integers containing values between 90 to 130 and store it in the variable `int_list`.\n",
        "After generating the list, find the following:\n",
        "\n",
        "  \n",
        "\n",
        "  (i) Write a Python function to calculate the mean of a given list of numbers.\n",
        "\n",
        "Create a function to find the median of a list of numbers.\n",
        "\n",
        "  \n",
        "\n",
        "  (ii) Develop a program to compute the mode of a list of integers.\n",
        "\n",
        "  \n",
        "\n",
        "  (iii) Implement a function to calculate the weighted mean of a list of values and their corresponding weights.\n",
        "\n",
        "  \n",
        "\n",
        "  (iv) Write a Python function to find the geometric mean of a list of positive numbers.\n",
        "\n",
        "  \n",
        "\n",
        "  (v) Create a program to calculate the harmonic mean of a list of values.\n",
        "\n",
        "  \n",
        "\n",
        "  (vi) Build a function to determine the midrange of a list of numbers (average of the minimum and maximum).\n",
        "\n",
        "  \n",
        "\n",
        "  (vii) Implement a Python program to find the trimmed mean of a list, excluding a certain percentage of\n",
        "outliers"
      ],
      "metadata": {
        "id": "9VOFkMSNAtrQ"
      }
    },
    {
      "cell_type": "code",
      "source": [
        "\n",
        "\n",
        "import random\n",
        "\n",
        "int_list = [random.randint(90, 130) for _ in range(100)]\n",
        "#mean of list\n",
        "\n",
        "def calculate_mean(numbers):\n",
        "    return sum(numbers) / len(numbers) if numbers else float('nan')\n",
        "\n",
        "mean_value = calculate_mean(int_list)\n",
        "print(\"Mean:\", mean_value)\n",
        "\n",
        "#median of list\n",
        "def calculate_median(numbers):\n",
        "    sorted_numbers = sorted(numbers)\n",
        "    n = len(sorted_numbers)\n",
        "    mid = n // 2\n",
        "    if n % 2 == 0:\n",
        "        return (sorted_numbers[mid - 1] + sorted_numbers[mid]) / 2\n",
        "    else:\n",
        "        return sorted_numbers[mid]\n",
        "\n",
        "median_value = calculate_median(int_list)\n",
        "print(\"Median:\", median_value)\n",
        "\n",
        "#mode of list\n",
        "\n",
        "from collections import Counter\n",
        "\n",
        "def calculate_mode(numbers):\n",
        "    count = Counter(numbers)\n",
        "    max_count = max(count.values())\n",
        "    modes = [num for num, freq in count.items() if freq == max_count]\n",
        "    return modes\n",
        "\n",
        "mode_value = calculate_mode(int_list)\n",
        "print(\"Mode:\", mode_value)\n",
        "\n",
        "#Weighted mean\n",
        "\n",
        "def calculate_weighted_mean(values, weights):\n",
        "    if len(values) != len(weights) or not values:\n",
        "        return float('nan')\n",
        "    return sum(v * w for v, w in zip(values, weights)) / sum(weights)\n",
        "\n",
        "values = [10, 20, 30]\n",
        "weights = [1, 2, 3]\n",
        "weighted_mean_value = calculate_weighted_mean(values, weights)\n",
        "print(\"Weighted Mean:\", weighted_mean_value)\n",
        "\n",
        "\n",
        "#geomentric mean\n",
        "import math\n",
        "from functools import reduce\n",
        "\n",
        "def calculate_geometric_mean(numbers):\n",
        "    if not numbers or any(n <= 0 for n in numbers):\n",
        "        return float('nan')\n",
        "    product = reduce(lambda x, y: x * y, numbers)\n",
        "    return product ** (1 / len(numbers))\n",
        "\n",
        "geometric_mean_value = calculate_geometric_mean([1, 2, 3, 4, 5])\n",
        "print(\"Geometric Mean:\", geometric_mean_value)\n",
        "\n",
        "#harmonic mean\n",
        "\n",
        "def calculate_harmonic_mean(numbers):\n",
        "    if not numbers or any(n <= 0 for n in numbers):\n",
        "        return float('nan')\n",
        "    return len(numbers) / sum(1 / n for n in numbers)\n",
        "\n",
        "harmonic_mean_value = calculate_harmonic_mean([1, 2, 3, 4, 5])\n",
        "print(\"Harmonic Mean:\", harmonic_mean_value)\n",
        "\n",
        "#midrange\n",
        "def calculate_midrange(numbers):\n",
        "    if not numbers:\n",
        "        return float('nan')\n",
        "    return (max(numbers) + min(numbers)) / 2\n",
        "\n",
        "midrange_value = calculate_midrange(int_list)\n",
        "print(\"Midrange:\", midrange_value)\n",
        "\n",
        "#trimmed mean\n",
        "def calculate_trimmed_mean(numbers, proportion_to_trim):\n",
        "    if not numbers or not (0 <= proportion_to_trim < 1):\n",
        "        return float('nan')\n",
        "    sorted_numbers = sorted(numbers)\n",
        "    n = len(sorted_numbers)\n",
        "    trim_count = int(n * proportion_to_trim)\n",
        "    trimmed_numbers = sorted_numbers[trim_count:-trim_count]\n",
        "    return calculate_mean(trimmed_numbers)\n",
        "\n",
        "trimmed_mean_value = calculate_trimmed_mean(int_list, 0.1)  # Trim 10% of the data\n",
        "print(\"Trimmed Mean:\", trimmed_mean_value)\n",
        "\n"
      ],
      "metadata": {
        "colab": {
          "base_uri": "https://localhost:8080/"
        },
        "id": "4atpXh-LBdj1",
        "outputId": "5e128aa3-bebb-4ba1-cbab-5545758eda0d"
      },
      "execution_count": 3,
      "outputs": [
        {
          "output_type": "stream",
          "name": "stdout",
          "text": [
            "Mean: 110.08\n",
            "Median: 110.0\n",
            "Mode: [110, 127]\n",
            "Weighted Mean: 23.333333333333332\n",
            "Geometric Mean: 2.605171084697352\n",
            "Harmonic Mean: 2.18978102189781\n",
            "Midrange: 109.5\n",
            "Trimmed Mean: 110.1125\n"
          ]
        }
      ]
    },
    {
      "cell_type": "markdown",
      "source": [
        " 2. Generate a list of 500 integers containing values between 200 to 300 and store it in the variable `int_list2`.\n",
        "After generating the list, find the following:\n",
        "\n",
        "\n",
        "  (i) Compare the given list of visualization for the given data\n",
        "\n",
        "    1. Frequency & Gaussian distribution\n",
        "\n",
        "    2. Frequency smoothened KDE plot\n",
        "\n",
        "    3. Gaussian distribution & smoothened KDE plot\n",
        "\n",
        "\n",
        "  (ii) Write a Python function to calculate the range of a given list of numbers.\n",
        "\n",
        "\n",
        "  (iii) Create a program to find the variance and standard deviation of a list of numbers.\n",
        "\n",
        "\n",
        "  (iv) Implement a function to compute the interquartile range (IQR) of a list of values.\n",
        "\n",
        "\n",
        "  (v) Build a program to calculate the coefficient of variation for a dataset.\n",
        "\n",
        "  \n",
        "\n",
        "  (vi) Write a Python function to find the mean absolute deviation (MAD) of a list of numbers.\n",
        "\n",
        "\n",
        "  (vii) Create a program to calculate the quartile deviation of a list of values.\n",
        "\n",
        "  \n",
        "\n",
        "  (viii) Implement a function to find the range-based coefficient of dispersion for a dataset"
      ],
      "metadata": {
        "id": "1Puv3RwxE7BP"
      }
    },
    {
      "cell_type": "code",
      "source": [
        "import random\n",
        "\n",
        "# Generate a list of 500 integers between 200 and 300\n",
        "int_list2 = [random.randint(200, 300) for _ in range(500)]\n",
        "\n",
        "# i) data visualization\n",
        "\n",
        "import matplotlib.pyplot as plt\n",
        "import seaborn as sns\n",
        "import numpy as np\n",
        "from scipy.stats import norm\n",
        "\n",
        "# Generate data\n",
        "data = int_list2\n",
        "\n",
        "# 1. Frequency & Gaussian distribution\n",
        "plt.figure(figsize=(14, 6))\n",
        "\n",
        "plt.subplot(1, 3, 1)\n",
        "sns.histplot(data, kde=False, stat='density', bins=30, color='blue')\n",
        "xmin, xmax = plt.xlim()\n",
        "x = np.linspace(xmin, xmax, 100)\n",
        "p = norm.pdf(x, np.mean(data), np.std(data))\n",
        "plt.plot(x, p, 'k', linewidth=2)\n",
        "plt.title('Frequency & Gaussian Distribution')\n",
        "\n",
        "# 2. Frequency smoothened KDE plot\n",
        "plt.subplot(1, 3, 2)\n",
        "sns.histplot(data, kde=True, stat='density', bins=30, color='blue')\n",
        "plt.title('Frequency Smoothened KDE Plot')\n",
        "\n",
        "# 3. Gaussian distribution & smoothened KDE plot\n",
        "plt.subplot(1, 3, 3)\n",
        "sns.histplot(data, kde=True, stat='density', bins=30, color='blue')\n",
        "xmin, xmax = plt.xlim()\n",
        "x = np.linspace(xmin, xmax, 100)\n",
        "p = norm.pdf(x, np.mean(data), np.std(data))\n",
        "plt.plot(x, p, 'k', linewidth=2)\n",
        "plt.title('Gaussian Distribution & Smoothened KDE Plot')\n",
        "\n",
        "plt.tight_layout()\n",
        "plt.show()\n",
        "\n"
      ],
      "metadata": {
        "colab": {
          "base_uri": "https://localhost:8080/",
          "height": 507
        },
        "id": "cfwv42_vFFpm",
        "outputId": "f8154300-0d46-4ec3-842e-6a02c531e0eb"
      },
      "execution_count": 4,
      "outputs": [
        {
          "output_type": "display_data",
          "data": {
            "text/plain": [
              "<Figure size 1400x600 with 3 Axes>"
            ],
            "image/png": "[encoded data removed]"
          },
          "metadata": {}
        }
      ]
    },
    {
      "cell_type": "code",
      "source": [
        "# ii) range of list\n",
        "\n",
        "def calculate_range(numbers):\n",
        "    if not numbers:\n",
        "        return float('nan')\n",
        "    return max(numbers) - min(numbers)\n",
        "\n",
        "# Example usage\n",
        "range_value = calculate_range(int_list2)\n",
        "print(\"Range:\", range_value)\n"
      ],
      "metadata": {
        "colab": {
          "base_uri": "https://localhost:8080/"
        },
        "id": "KTvdKWO-GQsk",
        "outputId": "b5c1821c-780e-4022-af99-a549881405bb"
      },
      "execution_count": 5,
      "outputs": [
        {
          "output_type": "stream",
          "name": "stdout",
          "text": [
            "Range: 99\n"
          ]
        }
      ]
    },
    {
      "cell_type": "code",
      "source": [
        "# iii) Variance and Standard Deviation\n",
        "import numpy as np\n",
        "\n",
        "def calculate_variance_and_std(numbers):\n",
        "    if not numbers:\n",
        "        return float('nan'), float('nan')\n",
        "    variance = np.var(numbers, ddof=1)  # Sample variance\n",
        "    std_dev = np.sqrt(variance)\n",
        "    return variance, std_dev\n",
        "\n",
        "# Example usage\n",
        "variance, std_dev = calculate_variance_and_std(int_list2)\n",
        "print(\"Variance:\", variance)\n",
        "print(\"Standard Deviation:\", std_dev)\n"
      ],
      "metadata": {
        "colab": {
          "base_uri": "https://localhost:8080/"
        },
        "id": "cp-lI6ajGW2I",
        "outputId": "e395ec93-f644-4516-c78a-39a265fca5a6"
      },
      "execution_count": 6,
      "outputs": [
        {
          "output_type": "stream",
          "name": "stdout",
          "text": [
            "Variance: 839.7433106212425\n",
            "Standard Deviation: 28.978324841530135\n"
          ]
        }
      ]
    },
    {
      "cell_type": "code",
      "source": [
        "#iv) Interquartile Range (IQR)\n",
        "def calculate_iqr(numbers):\n",
        "    if not numbers:\n",
        "        return float('nan')\n",
        "    q75, q25 = np.percentile(numbers, [75 ,25])\n",
        "    return q75 - q25\n",
        "\n",
        "# Example usage\n",
        "iqr_value = calculate_iqr(int_list2)\n",
        "print(\"IQR:\", iqr_value)\n"
      ],
      "metadata": {
        "colab": {
          "base_uri": "https://localhost:8080/"
        },
        "id": "kO3Wr4oZGkIo",
        "outputId": "2f70c52a-acac-4cde-aa0e-bfd53590c2b6"
      },
      "execution_count": 7,
      "outputs": [
        {
          "output_type": "stream",
          "name": "stdout",
          "text": [
            "IQR: 51.25\n"
          ]
        }
      ]
    },
    {
      "cell_type": "code",
      "source": [
        "# v) Coefficient of Variation\n",
        "def calculate_coefficient_of_variation(numbers):\n",
        "    if not numbers:\n",
        "        return float('nan')\n",
        "    mean = np.mean(numbers)\n",
        "    std_dev = np.std(numbers, ddof=1)\n",
        "    return (std_dev / mean) * 100\n",
        "\n",
        "# Example usage\n",
        "cv_value = calculate_coefficient_of_variation(int_list2)\n",
        "print(\"Coefficient of Variation (%):\", cv_value)\n"
      ],
      "metadata": {
        "colab": {
          "base_uri": "https://localhost:8080/"
        },
        "id": "u0vPK6ovGsr2",
        "outputId": "6774ed17-6ad6-44a7-f2f5-4c627a0aee25"
      },
      "execution_count": 8,
      "outputs": [
        {
          "output_type": "stream",
          "name": "stdout",
          "text": [
            "Coefficient of Variation (%): 11.48675452343074\n"
          ]
        }
      ]
    },
    {
      "cell_type": "code",
      "source": [
        "# (vi) Mean Absolute Deviation (MAD)\n",
        "def calculate_mad(numbers):\n",
        "    if not numbers:\n",
        "        return float('nan')\n",
        "    mean = np.mean(numbers)\n",
        "    return np.mean(np.abs(numbers - mean))\n",
        "\n",
        "# Example usage\n",
        "mad_value = calculate_mad(int_list2)\n",
        "print(\"Mean Absolute Deviation (MAD):\", mad_value)\n"
      ],
      "metadata": {
        "colab": {
          "base_uri": "https://localhost:8080/"
        },
        "id": "xsttbuTTHEWg",
        "outputId": "0b8a46ac-b173-4cec-dff9-425bb33c0e3c"
      },
      "execution_count": 9,
      "outputs": [
        {
          "output_type": "stream",
          "name": "stdout",
          "text": [
            "Mean Absolute Deviation (MAD): 25.038208\n"
          ]
        }
      ]
    },
    {
      "cell_type": "code",
      "source": [
        "#(vii) Quartile Deviation\n",
        "def calculate_quartile_deviation(numbers):\n",
        "    if not numbers:\n",
        "        return float('nan')\n",
        "    q75, q25 = np.percentile(numbers, [75 ,25])\n",
        "    return (q75 - q25) / 2\n",
        "\n",
        "# Example usage\n",
        "quartile_deviation_value = calculate_quartile_deviation(int_list2)\n",
        "print(\"Quartile Deviation:\", quartile_deviation_value)\n"
      ],
      "metadata": {
        "colab": {
          "base_uri": "https://localhost:8080/"
        },
        "id": "n-RNyIpmHL-z",
        "outputId": "a8d4269f-a22d-4490-dfdd-cc1cdbde998c"
      },
      "execution_count": 10,
      "outputs": [
        {
          "output_type": "stream",
          "name": "stdout",
          "text": [
            "Quartile Deviation: 25.625\n"
          ]
        }
      ]
    },
    {
      "cell_type": "code",
      "source": [
        "#(viii) Range-Based Coefficient of Dispersion\n",
        "def calculate_range_based_coefficient_of_dispersion(numbers):\n",
        "    if not numbers:\n",
        "        return float('nan')\n",
        "    range_value = calculate_range(numbers)\n",
        "    mean = np.mean(numbers)\n",
        "    return range_value / mean\n",
        "\n",
        "# Example usage\n",
        "range_based_cd_value = calculate_range_based_coefficient_of_dispersion(int_list2)\n",
        "print(\"Range-Based Coefficient of Dispersion:\", range_based_cd_value)\n"
      ],
      "metadata": {
        "colab": {
          "base_uri": "https://localhost:8080/"
        },
        "id": "hzH7Qwp3HVfA",
        "outputId": "e11dd37e-bad1-407e-f782-27d93c6dd954"
      },
      "execution_count": 11,
      "outputs": [
        {
          "output_type": "stream",
          "name": "stdout",
          "text": [
            "Range-Based Coefficient of Dispersion: 0.3924273414831375\n"
          ]
        }
      ]
    },
    {
      "cell_type": "markdown",
      "source": [
        "3.Write a Python class representing a discrete random variable with methods to calculate its expected\n",
        "value and variance."
      ],
      "metadata": {
        "id": "tiw_vOvSHiZZ"
      }
    },
    {
      "cell_type": "code",
      "source": [
        "class DiscreteRandomVariable:\n",
        "    def __init__(self, probabilities, values):\n",
        "        \"\"\"\n",
        "        Initialize the DiscreteRandomVariable with given probabilities and values.\n",
        "\n",
        "        :param probabilities: List of probabilities associated with each value.\n",
        "        :param values: List of values of the discrete random variable.\n",
        "        \"\"\"\n",
        "        if len(probabilities) != len(values):\n",
        "            raise ValueError(\"Probabilities and values must be of the same length.\")\n",
        "        if not (0.99 < sum(probabilities) < 1.01):\n",
        "            raise ValueError(\"The sum of probabilities must be approximately 1.\")\n",
        "        self.probabilities = probabilities\n",
        "        self.values = values\n",
        "\n",
        "    def expected_value(self):\n",
        "        \"\"\"\n",
        "        Calculate the expected value (mean) of the discrete random variable.\n",
        "\n",
        "        :return: The expected value.\n",
        "        \"\"\"\n",
        "        return sum(p * v for p, v in zip(self.probabilities, self.values))\n",
        "\n",
        "    def variance(self):\n",
        "        \"\"\"\n",
        "        Calculate the variance of the discrete random variable.\n",
        "\n",
        "        :return: The variance.\n",
        "        \"\"\"\n",
        "        mean = self.expected_value()\n",
        "        return sum(p * (v - mean) ** 2 for p, v in zip(self.probabilities, self.values))\n",
        "\n",
        "# Example usage\n",
        "probabilities = [0.2, 0.5, 0.3]  # Probabilities must sum up to 1\n",
        "values = [10, 20, 30]\n",
        "\n",
        "# Create a DiscreteRandomVariable instance\n",
        "rv = DiscreteRandomVariable(probabilities, values)\n",
        "\n",
        "# Calculate expected value and variance\n",
        "expected_val = rv.expected_value()\n",
        "variance_val = rv.variance()\n",
        "\n",
        "print(f\"Expected Value: {expected_val}\")\n",
        "print(f\"Variance: {variance_val}\")\n"
      ],
      "metadata": {
        "colab": {
          "base_uri": "https://localhost:8080/"
        },
        "id": "qbU8CcijIF-9",
        "outputId": "a4b77d20-b9dd-48a9-ace6-bc8c2099a088"
      },
      "execution_count": 12,
      "outputs": [
        {
          "output_type": "stream",
          "name": "stdout",
          "text": [
            "Expected Value: 21.0\n",
            "Variance: 49.0\n"
          ]
        }
      ]
    },
    {
      "cell_type": "markdown",
      "source": [
        "4) Implement a program to simulate the rolling of a pair six-sided die and calculate the expected value and\n",
        "variance of the outcomes."
      ],
      "metadata": {
        "id": "g_GFxUAfIZNH"
      }
    },
    {
      "cell_type": "code",
      "source": [
        "import numpy as np\n",
        "import random\n",
        "\n",
        "class FairSixSidedDie:\n",
        "    def __init__(self):\n",
        "        self.outcomes = [1, 2, 3, 4, 5, 6]\n",
        "        self.probabilities = [1/6] * 6\n",
        "\n",
        "    def roll_die(self):\n",
        "        \"\"\"Simulate rolling the die once.\"\"\"\n",
        "        return random.choice(self.outcomes)\n",
        "\n",
        "    def simulate_rolls(self, num_rolls):\n",
        "        \"\"\"Simulate rolling the die multiple times and return the results.\"\"\"\n",
        "        return [self.roll_die() for _ in range(num_rolls)]\n",
        "\n",
        "    def expected_value(self):\n",
        "        \"\"\"Calculate the expected value of a fair six-sided die.\"\"\"\n",
        "        return np.mean(self.outcomes)\n",
        "\n",
        "    def variance(self):\n",
        "        \"\"\"Calculate the variance of a fair six-sided die.\"\"\"\n",
        "        mean = self.expected_value()\n",
        "        return np.mean([(x - mean) ** 2 for x in self.outcomes])\n",
        "\n",
        "\n",
        "die = FairSixSidedDie()\n",
        "\n",
        "num_rolls = 1000\n",
        "rolls = die.simulate_rolls(num_rolls)\n",
        "\n",
        "expected_val = die.expected_value()\n",
        "variance_val = die.variance()\n",
        "\n",
        "print(f\"Simulated Rolls (first 10): {rolls[:10]}\")\n",
        "print(f\"Expected Value: {expected_val}\")\n",
        "print(f\"Variance: {variance_val}\")\n"
      ],
      "metadata": {
        "colab": {
          "base_uri": "https://localhost:8080/"
        },
        "id": "LayGt9J1IhKF",
        "outputId": "e5266eea-4b9d-4768-c9d8-e3e712f981ed"
      },
      "execution_count": 15,
      "outputs": [
        {
          "output_type": "stream",
          "name": "stdout",
          "text": [
            "Simulated Rolls (first 10): [6, 5, 3, 2, 1, 4, 6, 6, 3, 6]\n",
            "Expected Value: 3.5\n",
            "Variance: 2.9166666666666665\n"
          ]
        }
      ]
    },
    {
      "cell_type": "markdown",
      "source": [
        "5) Create a Python 6unction to generate random samples from a given probabilits distribution (e.g.,\n",
        "binomial, Poisson) and calculate their mean and variance."
      ],
      "metadata": {
        "id": "pRc3rnvcI6zA"
      }
    },
    {
      "cell_type": "code",
      "source": [
        "import numpy as np\n",
        "\n",
        "def generate_samples_and_statistics(distribution, params, num_samples=1000):\n",
        "    \"\"\"\n",
        "    Generate random samples from a given probability distribution and calculate their mean and variance.\n",
        "\n",
        "    :param distribution: The name of the probability distribution ('binomial' or 'poisson').\n",
        "    :param params: Parameters for the distribution. For binomial: (n, p). For poisson: (lambda_).\n",
        "    :param num_samples: Number of random samples to generate.\n",
        "    :return: A tuple containing the generated samples, mean, and variance.\n",
        "    \"\"\"\n",
        "    if distribution == 'binomial':\n",
        "        n, p = params\n",
        "        samples = np.random.binomial(n, p, num_samples)\n",
        "    elif distribution == 'poisson':\n",
        "        lambda_ = params[0]\n",
        "        samples = np.random.poisson(lambda_, num_samples)\n",
        "    else:\n",
        "        raise ValueError(\"Unsupported distribution. Choose 'binomial' or 'poisson'.\")\n",
        "\n",
        "    mean = np.mean(samples)\n",
        "    variance = np.var(samples, ddof=1)\n",
        "    return samples, mean, variance\n",
        "\n",
        "\n",
        "n_binomial = 10\n",
        "p_binomial = 0.5\n",
        "samples_binomial, mean_binomial, variance_binomial = generate_samples_and_statistics('binomial', (n_binomial, p_binomial))\n",
        "\n",
        "print(\"Binomial Distribution:\")\n",
        "print(f\"First 10 Samples: {samples_binomial[:10]}\")\n",
        "print(f\"Mean: {mean_binomial}\")\n",
        "print(f\"Variance: {variance_binomial}\")\n",
        "\n",
        "\n",
        "lambda_poisson = 5\n",
        "samples_poisson, mean_poisson, variance_poisson = generate_samples_and_statistics('poisson', (lambda_poisson,))\n",
        "\n",
        "print(\"\\nPoisson Distribution:\")\n",
        "print(f\"First 10 Samples: {samples_poisson[:10]}\")\n",
        "print(f\"Mean: {mean_poisson}\")\n",
        "print(f\"Variance: {variance_poisson}\")\n"
      ],
      "metadata": {
        "colab": {
          "base_uri": "https://localhost:8080/"
        },
        "id": "znL3vbVSJCZv",
        "outputId": "cfa2ca05-38b2-4ea1-859c-51b74f361388"
      },
      "execution_count": 17,
      "outputs": [
        {
          "output_type": "stream",
          "name": "stdout",
          "text": [
            "Binomial Distribution:\n",
            "First 10 Samples: [4 4 3 8 3 6 5 4 4 5]\n",
            "Mean: 4.953\n",
            "Variance: 2.6053963963963964\n",
            "\n",
            "Poisson Distribution:\n",
            "First 10 Samples: [ 2  6  3  9  7  4  7 10  6  5]\n",
            "Mean: 5.033\n",
            "Variance: 5.313224224224224\n"
          ]
        }
      ]
    },
    {
      "cell_type": "markdown",
      "source": [
        "6) Write a Python script to generate random numbers 6rom a Gaussian (normal) distribution and compute\n",
        "the mean, variance, and standard deviation of the samples."
      ],
      "metadata": {
        "id": "sG2V9DzwKBJ7"
      }
    },
    {
      "cell_type": "code",
      "source": [
        "import numpy as np\n",
        "\n",
        "def generate_normal_samples(mean, std_dev, num_samples):\n",
        "    \"\"\"\n",
        "    Generate random samples from a Gaussian (normal) distribution and compute their statistics.\n",
        "\n",
        "    :param mean: The mean of the normal distribution.\n",
        "    :param std_dev: The standard deviation of the normal distribution.\n",
        "    :param num_samples: Number of samples to generate.\n",
        "    :return: A tuple containing the samples, mean, variance, and standard deviation of the samples.\n",
        "    \"\"\"\n",
        "\n",
        "    samples = np.random.normal(loc=mean, scale=std_dev, size=num_samples)\n",
        "\n",
        "    computed_mean = np.mean(samples)\n",
        "    variance = np.var(samples, ddof=1)\n",
        "    std_dev = np.sqrt(variance)\n",
        "\n",
        "    return samples, computed_mean, variance, std_dev\n",
        "\n",
        "mean = 0\n",
        "std_dev = 1\n",
        "num_samples = 1000\n",
        "\n",
        "samples, computed_mean, variance, computed_std_dev = generate_normal_samples(mean, std_dev, num_samples)\n",
        "\n",
        "print(f\"First 10 Samples: {samples[:10]}\")\n",
        "print(f\"Mean of Samples: {computed_mean}\")\n",
        "print(f\"Variance of Samples: {variance}\")\n",
        "print(f\"Standard Deviation of Samples: {computed_std_dev}\")\n"
      ],
      "metadata": {
        "colab": {
          "base_uri": "https://localhost:8080/"
        },
        "id": "YE45d00lKHNb",
        "outputId": "42162757-b773-4c28-c1df-69c66a4b8a32"
      },
      "execution_count": 18,
      "outputs": [
        {
          "output_type": "stream",
          "name": "stdout",
          "text": [
            "First 10 Samples: [-0.11820651  0.55703486  0.41537704 -0.07136665  0.77165571 -0.03880635\n",
            " -1.77910906 -1.13193954  0.60175871  1.39384841]\n",
            "Mean of Samples: -0.010764528015331544\n",
            "Variance of Samples: 0.9328827573212473\n",
            "Standard Deviation of Samples: 0.9658585596873112\n"
          ]
        }
      ]
    },
    {
      "cell_type": "markdown",
      "source": [
        "7) Use seaborn librars to load tips dataset. Find the 6ollowing 6rom the dataset 6or the columns total_bill and tip:\n",
        "\n",
        "  \n",
        "\n",
        "  (i) Write a Python function that calculates their skewness.\n",
        "\n",
        "\n",
        "  (ii) Create a program that determines whether the columns exhibit positive skewness, negative skewness, or is\n",
        "approximately symmetric.\n",
        "\n",
        "\n",
        "  (iii) Write a function that calculates the covariance between two columns.\n",
        "\n",
        "\n",
        "  (iv) Implement a Python program that calculates the Pearson correlation coefficient between two columns.\n",
        "\n",
        "\n",
        "  (v) Write a script to visualize the correlation between two specific columns in a Pandas DataFrame using scatter plots."
      ],
      "metadata": {
        "id": "y939qI1MK0Jq"
      }
    },
    {
      "cell_type": "code",
      "source": [
        "import seaborn as sns\n",
        "import pandas as pd\n",
        "import numpy as np\n",
        "import scipy.stats as stats\n",
        "import matplotlib.pyplot as plt\n",
        "\n",
        "tips = sns.load_dataset('tips')\n",
        "\n",
        "# (i) Function to calculate skewness\n",
        "def calculate_skewness(column):\n",
        "    return stats.skew(column, nan_policy='omit')\n",
        "\n",
        "# Calculate skewness for 'total_bill' and 'tip'\n",
        "total_bill_skewness = calculate_skewness(tips['total_bill'])\n",
        "tip_skewness = calculate_skewness(tips['tip'])\n",
        "\n",
        "print(f\"Skewness of total_bill: {total_bill_skewness}\")\n",
        "print(f\"Skewness of tip: {tip_skewness}\")\n",
        "\n",
        "# (ii) Determine the type of skewness\n",
        "def skewness_type(skewness):\n",
        "    if skewness > 0:\n",
        "        return \"Positive Skewness\"\n",
        "    elif skewness < 0:\n",
        "        return \"Negative Skewness\"\n",
        "    else:\n",
        "        return \"Approximately Symmetric\"\n",
        "\n",
        "print(f\"Total Bill Skewness Type: {skewness_type(total_bill_skewness)}\")\n",
        "print(f\"Tip Skewness Type: {skewness_type(tip_skewness)}\")\n",
        "\n",
        "# (iii) Function to calculate covariance\n",
        "def calculate_covariance(column1, column2):\n",
        "    return np.cov(column1, column2, ddof=0)[0, 1]\n",
        "\n",
        "# Calculate covariance between 'total_bill' and 'tip'\n",
        "covariance = calculate_covariance(tips['total_bill'], tips['tip'])\n",
        "print(f\"Covariance between total_bill and tip: {covariance}\")\n",
        "\n",
        "# (iv) Calculate Pearson correlation coefficient\n",
        "def calculate_pearson_correlation(column1, column2):\n",
        "    return np.corrcoef(column1, column2)[0, 1]\n",
        "\n",
        "# Calculate Pearson correlation coefficient between 'total_bill' and 'tip'\n",
        "pearson_corr = calculate_pearson_correlation(tips['total_bill'], tips['tip'])\n",
        "print(f\"Pearson Correlation Coefficient between total_bill and tip: {pearson_corr}\")\n",
        "\n",
        "plt.figure(figsize=(8, 6))\n",
        "plt.scatter(tips['total_bill'], tips['tip'], alpha=0.7, edgecolors='w', s=100)\n",
        "plt.title('Scatter Plot of Total Bill vs Tip')\n",
        "plt.xlabel('Total Bill')\n",
        "plt.ylabel('Tip')\n",
        "plt.grid(True)\n",
        "plt.show()\n"
      ],
      "metadata": {
        "colab": {
          "base_uri": "https://localhost:8080/",
          "height": 668
        },
        "id": "67mjcmlcMerb",
        "outputId": "23536b7b-fce2-4f79-e75e-b34808c8f6dd"
      },
      "execution_count": 22,
      "outputs": [
        {
          "output_type": "stream",
          "name": "stdout",
          "text": [
            "Skewness of total_bill: 1.1262346334818638\n",
            "Skewness of tip: 1.4564266884221506\n",
            "Total Bill Skewness Type: Positive Skewness\n",
            "Tip Skewness Type: Positive Skewness\n",
            "Covariance between total_bill and tip: 8.28938891762967\n",
            "Pearson Correlation Coefficient between total_bill and tip: 0.6757341092113641\n"
          ]
        },
        {
          "output_type": "display_data",
          "data": {
            "text/plain": [
              "<Figure size 800x600 with 1 Axes>"
            ],
            "image/png": "[encoded data removed]"
          },
          "metadata": {}
        }
      ]
    },
    {
      "cell_type": "markdown",
      "source": [
        "8) Write a Python 6unction to calculate the probability density function (PDF) of a continuous random\n",
        "variable for a given normal distribution"
      ],
      "metadata": {
        "id": "LyUTGUDQelQk"
      }
    },
    {
      "cell_type": "code",
      "source": [
        "import math\n",
        "\n",
        "def normal_pdf(x, mu, sigma):\n",
        "    \"\"\"\n",
        "    Calculate the probability density function of a normal distribution.\n",
        "\n",
        "    Parameters:\n",
        "    x (float): The value at which to evaluate the PDF.\n",
        "    mu (float): The mean of the normal distribution.\n",
        "    sigma (float): The standard deviation of the normal distribution.\n",
        "\n",
        "    Returns:\n",
        "    float: The value of the PDF at x.\n",
        "    \"\"\"\n",
        "    if sigma <= 0:\n",
        "        raise ValueError(\"Standard deviation must be positive.\")\n",
        "\n",
        "    exponent = -((x - mu) ** 2) / (2 * sigma ** 2)\n",
        "    pdf_value = (1 / (sigma * math.sqrt(2 * math.pi))) * math.exp(exponent)\n",
        "\n",
        "    return pdf_value\n",
        "\n",
        "x = 0\n",
        "mu = 0\n",
        "sigma = 1\n",
        "print(normal_pdf(x, mu, sigma))\n"
      ],
      "metadata": {
        "colab": {
          "base_uri": "https://localhost:8080/"
        },
        "id": "svEvfDsVe9nK",
        "outputId": "0d64cece-ab8c-402e-c9ca-a0bc42d17f09"
      },
      "execution_count": 23,
      "outputs": [
        {
          "output_type": "stream",
          "name": "stdout",
          "text": [
            "0.3989422804014327\n"
          ]
        }
      ]
    },
    {
      "cell_type": "markdown",
      "source": [
        "9) Create a program to calculate the cumulative distribution function (CDF) of exponential distribution."
      ],
      "metadata": {
        "id": "fbDtU4T7ghnj"
      }
    },
    {
      "cell_type": "code",
      "source": [
        "import math\n",
        "\n",
        "def exponential_cdf(x, lambda_):\n",
        "    \"\"\"\n",
        "    Calculate the cumulative distribution function (CDF) of an exponential distribution.\n",
        "\n",
        "    Parameters:\n",
        "    x (float): The value at which to evaluate the CDF. Must be non-negative.\n",
        "    lambda_ (float): The rate parameter of the exponential distribution. Must be positive.\n",
        "\n",
        "    Returns:\n",
        "    float: The value of the CDF at x.\n",
        "    \"\"\"\n",
        "    if x < 0:\n",
        "        raise ValueError(\"x must be non-negative.\")\n",
        "    if lambda_ <= 0:\n",
        "        raise ValueError(\"lambda (rate parameter) must be positive.\")\n",
        "\n",
        "    cdf_value = 1 - math.exp(-lambda_ * x)\n",
        "\n",
        "    return cdf_value\n",
        "\n",
        "x = 2\n",
        "lambda_ = 0.5\n",
        "print(exponential_cdf(x, lambda_))\n"
      ],
      "metadata": {
        "colab": {
          "base_uri": "https://localhost:8080/"
        },
        "id": "4A8N4gG9gsH-",
        "outputId": "5b81ee3f-ae0e-4110-9e83-3acd51f78234"
      },
      "execution_count": 24,
      "outputs": [
        {
          "output_type": "stream",
          "name": "stdout",
          "text": [
            "0.6321205588285577\n"
          ]
        }
      ]
    },
    {
      "cell_type": "markdown",
      "source": [
        "10) Write a Python function to calculate the probability mass function (PMF) of Poisson distribution"
      ],
      "metadata": {
        "id": "AyqFvQ_5iB8p"
      }
    },
    {
      "cell_type": "code",
      "source": [
        "import math\n",
        "\n",
        "def poisson_pmf(k, lambda_):\n",
        "    \"\"\"\n",
        "    Calculate the probability mass function (PMF) of a Poisson distribution.\n",
        "\n",
        "    Parameters:\n",
        "    k (int): The number of events. Must be a non-negative integer.\n",
        "    lambda_ (float): The average rate (mean) of occurrences. Must be positive.\n",
        "\n",
        "    Returns:\n",
        "    float: The probability of observing exactly k events.\n",
        "    \"\"\"\n",
        "    if k < 0 or not isinstance(k, int):\n",
        "        raise ValueError(\"k must be a non-negative integer.\")\n",
        "    if lambda_ <= 0:\n",
        "        raise ValueError(\"lambda (average rate) must be positive.\")\n",
        "\n",
        "    pmf_value = (lambda_ ** k * math.exp(-lambda_)) / math.factorial(k)\n",
        "\n",
        "    return pmf_value\n",
        "\n",
        "k = 3\n",
        "lambda_ = 2.5\n",
        "print(poisson_pmf(k, lambda_))\n"
      ],
      "metadata": {
        "colab": {
          "base_uri": "https://localhost:8080/"
        },
        "id": "-mNs6prvibaH",
        "outputId": "7a83640b-ddba-4dbc-e4a2-1d12479b789d"
      },
      "execution_count": 25,
      "outputs": [
        {
          "output_type": "stream",
          "name": "stdout",
          "text": [
            "0.21376301724973645\n"
          ]
        }
      ]
    },
    {
      "cell_type": "markdown",
      "source": [
        "11) A company wants to test iN a new website layout leads to a higher conversion rate (percentage oN visitors\n",
        "who make a purchase). They collect data Nrom the old and new layouts to compare.\n",
        "\n",
        "\n",
        "To generate the data use the following command:\n",
        "\n",
        "```python\n",
        "\n",
        "import <umpy as <p\n",
        "\n",
        "# 50 purchases out of 1000 visitors\n",
        "\n",
        "old_layout = <p.array([1] * 50 + [0] * 950)\n",
        "\n",
        "# 70 purchases out of 1000 visitors  \n",
        "\n",
        "<ew_layout = <p.array([1] * 70 + [0] * 930)\n",
        "\n",
        "  ```\n",
        "\n",
        "Apply z-test to find which layout is successful."
      ],
      "metadata": {
        "id": "XFOA0B8kjDml"
      }
    },
    {
      "cell_type": "code",
      "source": [
        "import numpy as np\n",
        "from scipy import stats\n",
        "\n",
        "old_layout = np.array([1] * 50 + [0] * 950)\n",
        "new_layout = np.array([1] * 70 + [0] * 930)\n",
        "\n",
        "n_old = len(old_layout)\n",
        "n_new = len(new_layout)\n",
        "x_old = np.sum(old_layout)\n",
        "x_new = np.sum(new_layout)\n",
        "\n",
        "p_old = x_old / n_old\n",
        "p_new = x_new / n_new\n",
        "\n",
        "\n",
        "p_pooled = (x_old + x_new) / (n_old + n_new)\n",
        "\n",
        "se = np.sqrt(p_pooled * (1 - p_pooled) * (1/n_old + 1/n_new))\n",
        "\n",
        "z = (p_new - p_old) / se\n",
        "\n",
        "p_value = 1 - stats.norm.cdf(z)\n",
        "\n",
        "print(f'Old layout conversion rate: {p_old:.4f}')\n",
        "print(f'New layout conversion rate: {p_new:.4f}')\n",
        "print(f'Z-score: {z:.4f}')\n",
        "print(f'P-value: {p_value:.4f}')\n",
        "\n",
        "alpha = 0.05\n",
        "if p_value < alpha:\n",
        "    print(\"Reject the null hypothesis: The new layout has a significantly higher conversion rate.\")\n",
        "else:\n",
        "    print(\"Fail to reject the null hypothesis: There is not enough evidence to say the new layout has a higher conversion rate.\")\n"
      ],
      "metadata": {
        "colab": {
          "base_uri": "https://localhost:8080/"
        },
        "id": "sFtIduAppv_G",
        "outputId": "994f57a9-32a6-4260-ef2f-494bcccb7345"
      },
      "execution_count": 26,
      "outputs": [
        {
          "output_type": "stream",
          "name": "stdout",
          "text": [
            "Old layout conversion rate: 0.0500\n",
            "New layout conversion rate: 0.0700\n",
            "Z-score: 1.8831\n",
            "P-value: 0.0298\n",
            "Reject the null hypothesis: The new layout has a significantly higher conversion rate.\n"
          ]
        }
      ]
    },
    {
      "cell_type": "markdown",
      "source": [
        "12) A tutoring service claims that its program improves students exam scores. A sample of students who participated in the program was taken, and their scores before and after the program were recorded.\n",
        "\n",
        "\n",
        "Use the below code to generate samples of respective arrays of marks:\n",
        "\n",
        "```python\n",
        "\n",
        "before_program = <p.array([75, 80, 85, 70, 90, 78, 92, 88, 82, 87])\n",
        "\n",
        "after_program = <p.array([80, 85, 90, 80, 92, 80, 95, 90, 85, 88])\n",
        "\n",
        "```\n",
        "\n",
        "Use z-test to find if the claims made by tutor are true or false"
      ],
      "metadata": {
        "id": "NRdNXbDYsFdP"
      }
    },
    {
      "cell_type": "code",
      "source": [
        "import numpy as np\n",
        "from scipy import stats\n",
        "\n",
        "before_program = np.array([75, 80, 85, 70, 90, 78, 92, 88, 82, 87])\n",
        "after_program = np.array([80, 85, 90, 80, 92, 80, 95, 90, 85, 88])\n",
        "\n",
        "differences = after_program - before_program\n",
        "\n",
        "t_statistic, p_value = stats.ttest_rel(after_program, before_program)\n",
        "\n",
        "print(f'Differences: {differences}')\n",
        "print(f'T-statistic: {t_statistic:.4f}')\n",
        "print(f'P-value: {p_value:.4f}')\n",
        "\n",
        "alpha = 0.05\n",
        "if p_value < alpha:\n",
        "    print(\"Reject the null hypothesis: The tutoring program has significantly improved the students' scores.\")\n",
        "else:\n",
        "    print(\"Fail to reject the null hypothesis: There is not enough evidence to say the tutoring program improved the students' scores.\")\n"
      ],
      "metadata": {
        "colab": {
          "base_uri": "https://localhost:8080/"
        },
        "id": "Ef5MSt4bs-d9",
        "outputId": "0c55466f-9269-411a-e87e-2ab1f0f157cb"
      },
      "execution_count": 27,
      "outputs": [
        {
          "output_type": "stream",
          "name": "stdout",
          "text": [
            "Differences: [ 5  5  5 10  2  2  3  2  3  1]\n",
            "T-statistic: 4.5932\n",
            "P-value: 0.0013\n",
            "Reject the null hypothesis: The tutoring program has significantly improved the students' scores.\n"
          ]
        }
      ]
    },
    {
      "cell_type": "markdown",
      "source": [
        "13. A pharmaceutical company wants to determine if a new drug is effective in reducing blood pressure. They conduct a study and record blood pressure measurements before and after administering the drug.\n",
        "\n",
        "\n",
        "Use the below code to generate samples of respective arrays of blood pressure:\n",
        "\n",
        "\n",
        "```python\n",
        "\n",
        "before_drug = <p.array([145, 150, 140, 135, 155, 160, 152, 148, 130, 138])\n",
        "\n",
        "after_drug = <p.array([130, 140, 132, 128, 145, 148, 138, 136, 125, 130])\n",
        "\n",
        "  ```\n",
        "\n",
        "\n",
        "Implement z-test to find if the drug really works or not"
      ],
      "metadata": {
        "id": "rGPfSNjRths6"
      }
    },
    {
      "cell_type": "code",
      "source": [
        "import numpy as np\n",
        "from scipy import stats\n",
        "\n",
        "before_drug = np.array([145, 150, 140, 135, 155, 160, 152, 148, 130, 138])\n",
        "after_drug = np.array([130, 140, 132, 128, 145, 148, 138, 136, 125, 130])\n",
        "\n",
        "differences = after_drug - before_drug\n",
        "\n",
        "t_statistic, p_value = stats.ttest_rel(after_drug, before_drug)\n",
        "\n",
        "print(f'Differences: {differences}')\n",
        "print(f'T-statistic: {t_statistic:.4f}')\n",
        "print(f'P-value: {p_value:.4f}')\n",
        "\n",
        "alpha = 0.05\n",
        "if p_value < alpha:\n",
        "    print(\"Reject the null hypothesis: The drug has a significant effect in reducing blood pressure.\")\n",
        "else:\n",
        "    print(\"Fail to reject the null hypothesis: There is not enough evidence to say the drug is effective in reducing blood pressure.\")\n"
      ],
      "metadata": {
        "colab": {
          "base_uri": "https://localhost:8080/"
        },
        "id": "Ag2dhB0HvX1P",
        "outputId": "49b2910c-372f-4ae5-e09e-fb47bb415533"
      },
      "execution_count": 29,
      "outputs": [
        {
          "output_type": "stream",
          "name": "stdout",
          "text": [
            "Differences: [-15 -10  -8  -7 -10 -12 -14 -12  -5  -8]\n",
            "T-statistic: -10.0499\n",
            "P-value: 0.0000\n",
            "Reject the null hypothesis: The drug has a significant effect in reducing blood pressure.\n"
          ]
        }
      ]
    },
    {
      "cell_type": "markdown",
      "source": [
        "14) A customer service department claims that their average response tile is less than 5 minutes. A sample of recent customer interactions was taken, and the response tiles were recorded.\n",
        "\n",
        "\n",
        "Implement the below code to generate the array of response time:\n",
        "\n",
        "```python\n",
        "\n",
        "response_times = 3p.array([4.3, 3.8, 5.1, 4.9, 4.7, 4.2, 5.2, 4.5, 4.6, 4.4])\n",
        "\n",
        "```\n",
        "\n",
        "Implement z-test to find the claims made by customer service department are true or false"
      ],
      "metadata": {
        "id": "QjYc5CnTvoqD"
      }
    },
    {
      "cell_type": "code",
      "source": [
        "import numpy as np\n",
        "from scipy import stats\n",
        "\n",
        "response_times = np.array([4.3, 3.8, 5.1, 4.9, 4.7, 4.2, 5.2, 4.5, 4.6, 4.4])\n",
        "\n",
        "mu = 5\n",
        "\n",
        "sample_mean = np.mean(response_times)\n",
        "sample_std = np.std(response_times, ddof=1)\n",
        "n = len(response_times)\n",
        "\n",
        "t_statistic, p_value = stats.ttest_1samp(response_times, mu)\n",
        "\n",
        "print(f'Sample Mean: {sample_mean:.2f}')\n",
        "print(f'Sample Standard Deviation: {sample_std:.2f}')\n",
        "print(f'T-statistic: {t_statistic:.4f}')\n",
        "print(f'P-value: {p_value:.4f}')\n",
        "\n",
        "alpha = 0.05\n",
        "if p_value < alpha and t_statistic < 0:\n",
        "    print(\"Reject the null hypothesis: The average response time is significantly less than 5 minutes.\")\n",
        "else:\n",
        "    print(\"Fail to reject the null hypothesis: There is not enough evidence to say the average response time is less than 5 minutes.\")\n"
      ],
      "metadata": {
        "colab": {
          "base_uri": "https://localhost:8080/"
        },
        "id": "QZfnk8O5x7Hf",
        "outputId": "7b306772-08f4-4842-a7f1-72d4cf9d3834"
      },
      "execution_count": 30,
      "outputs": [
        {
          "output_type": "stream",
          "name": "stdout",
          "text": [
            "Sample Mean: 4.57\n",
            "Sample Standard Deviation: 0.43\n",
            "T-statistic: -3.1845\n",
            "P-value: 0.0111\n",
            "Reject the null hypothesis: The average response time is significantly less than 5 minutes.\n"
          ]
        }
      ]
    },
    {
      "cell_type": "markdown",
      "source": [
        "15) A company is testing two different website layouts to see which one leads to higher click-through rates. Write a Python function to perform an A/B test analysis, including calculating the t-statistic, degrees of\n",
        "freedom, and p-value.\n",
        "\n",
        "\n",
        "Use the following data:\n",
        "\n",
        "```python\n",
        "\n",
        "layout_a_clicks = [28, 32, 33, 29, 31, 34, 30, 35, 36, 37]\n",
        "\n",
        "layout_b_clicks = [40, 41, 38, 42, 39, 44, 43, 41, 45, 47]"
      ],
      "metadata": {
        "id": "A1rZNJTazVaT"
      }
    },
    {
      "cell_type": "code",
      "source": [
        "import numpy as np\n",
        "from scipy import stats\n",
        "\n",
        "def ab_test_analysis(layout_a_clicks, layout_b_clicks):\n",
        "    \"\"\"\n",
        "    Perform A/B test analysis to compare click-through rates of two website layouts.\n",
        "\n",
        "    Parameters:\n",
        "    layout_a_clicks (list): Clicks for layout A.\n",
        "    layout_b_clicks (list): Clicks for layout B.\n",
        "\n",
        "    Returns:\n",
        "    dict: A dictionary containing the t-statistic, degrees of freedom, and p-value.\n",
        "    \"\"\"\n",
        "\n",
        "    layout_a = np.array(layout_a_clicks)\n",
        "    layout_b = np.array(layout_b_clicks)\n",
        "\n",
        "    mean_a = np.mean(layout_a)\n",
        "    std_a = np.std(layout_a, ddof=1)\n",
        "    n_a = len(layout_a)\n",
        "\n",
        "    mean_b = np.mean(layout_b)\n",
        "    std_b = np.std(layout_b, ddof=1)\n",
        "    n_b = len(layout_b)\n",
        "\n",
        "    se_a = std_a / np.sqrt(n_a)\n",
        "    se_b = std_b / np.sqrt(n_b)\n",
        "    pooled_se = np.sqrt(se_a**2 + se_b**2)\n",
        "    t_statistic = (mean_a - mean_b) / pooled_se\n",
        "\n",
        "    df_numerator = (se_a**2 + se_b**2)**2\n",
        "    df_denominator = ((se_a**2)**2 / (n_a - 1)) + ((se_b**2)**2 / (n_b - 1))\n",
        "    degrees_of_freedom = df_numerator / df_denominator\n",
        "\n",
        "    p_value = 2 * stats.t.cdf(-abs(t_statistic), df=degrees_of_freedom)\n",
        "\n",
        "    return {\n",
        "        't_statistic': t_statistic,\n",
        "        'degrees_of_freedom': degrees_of_freedom,\n",
        "        'p_value': p_value\n",
        "    }\n",
        "\n",
        "layout_a_clicks = [28, 32, 33, 29, 31, 34, 30, 35, 36, 37]\n",
        "layout_b_clicks = [40, 41, 38, 42, 39, 44, 43, 41, 45, 47]\n",
        "\n",
        "results = ab_test_analysis(layout_a_clicks, layout_b_clicks)\n",
        "\n",
        "print(f\"T-Statistic: {results['t_statistic']:.4f}\")\n",
        "print(f\"Degrees of Freedom: {results['degrees_of_freedom']:.2f}\")\n",
        "print(f\"P-Value: {results['p_value']:.4f}\")\n",
        "\n",
        "alpha = 0.05\n",
        "if results['p_value'] < alpha:\n",
        "    print(\"Reject the null hypothesis: There is a significant difference in click-through rates between the two layouts.\")\n",
        "else:\n",
        "    print(\"Fail to reject the null hypothesis: There is not enough evidence to say there is a significant difference in click-through rates.\")\n"
      ],
      "metadata": {
        "colab": {
          "base_uri": "https://localhost:8080/"
        },
        "id": "_COT1wD01VGL",
        "outputId": "dc58c93a-7ae3-4377-c263-18500492053e"
      },
      "execution_count": 31,
      "outputs": [
        {
          "output_type": "stream",
          "name": "stdout",
          "text": [
            "T-Statistic: -7.2981\n",
            "Degrees of Freedom: 17.88\n",
            "P-Value: 0.0000\n",
            "Reject the null hypothesis: There is a significant difference in click-through rates between the two layouts.\n"
          ]
        }
      ]
    },
    {
      "cell_type": "markdown",
      "source": [
        "16) A pharmaceutical company wants to determine if a new drug is more effective than an existing drug in\n",
        "reducing cholesterol levels. Create a program to analyze the clinical trial data and calculate the t-statistic and p-value for the treatment effect.\n",
        "\n",
        "\n",
        "Use the following data of cholestrol level:\n",
        "\n",
        "```python\n",
        "\n",
        "existing_drug_levels = [180, 182, 175, 185, 178, 176, 172, 184, 179, 183]\n",
        "\n",
        "new_drug_levels = [170, 172, 165, 168, 175, 173, 170, 178, 172, 176]\n",
        "\n",
        "``"
      ],
      "metadata": {
        "id": "TgD_YtJW2cCn"
      }
    },
    {
      "cell_type": "code",
      "source": [
        "import numpy as np\n",
        "from scipy import stats\n",
        "\n",
        "def compare_drugs(existing_drug_levels, new_drug_levels):\n",
        "    \"\"\"\n",
        "    Compare the effectiveness of two drugs using an independent two-sample t-test.\n",
        "\n",
        "    Parameters:\n",
        "    existing_drug_levels (list): Cholesterol levels from the existing drug group.\n",
        "    new_drug_levels (list): Cholesterol levels from the new drug group.\n",
        "\n",
        "    Returns:\n",
        "    dict: A dictionary containing the t-statistic, degrees of freedom, and p-value.\n",
        "    \"\"\"\n",
        "\n",
        "    existing_drug = np.array(existing_drug_levels)\n",
        "    new_drug = np.array(new_drug_levels)\n",
        "\n",
        "    mean_existing = np.mean(existing_drug)\n",
        "    std_existing = np.std(existing_drug, ddof=1)\n",
        "    n_existing = len(existing_drug)\n",
        "\n",
        "    mean_new = np.mean(new_drug)\n",
        "    std_new = np.std(new_drug, ddof=1)\n",
        "    n_new = len(new_drug)\n",
        "\n",
        "    se_existing = std_existing / np.sqrt(n_existing)\n",
        "    se_new = std_new / np.sqrt(n_new)\n",
        "    pooled_se = np.sqrt(se_existing**2 + se_new**2)\n",
        "    t_statistic = (mean_existing - mean_new) / pooled_se\n",
        "\n",
        "    df_numerator = (se_existing**2 + se_new**2)**2\n",
        "    df_denominator = ((se_existing**2)**2 / (n_existing - 1)) + ((se_new**2)**2 / (n_new - 1))\n",
        "    degrees_of_freedom = df_numerator / df_denominator\n",
        "\n",
        "    p_value = 2 * stats.t.cdf(-abs(t_statistic), df=degrees_of_freedom)\n",
        "\n",
        "    return {\n",
        "        't_statistic': t_statistic,\n",
        "        'degrees_of_freedom': degrees_of_freedom,\n",
        "        'p_value': p_value\n",
        "    }\n",
        "\n",
        "\n",
        "existing_drug_levels = [180, 182, 175, 185, 178, 176, 172, 184, 179, 183]\n",
        "new_drug_levels = [170, 172, 165, 168, 175, 173, 170, 178, 172, 176]\n",
        "\n",
        "\n",
        "results = compare_drugs(existing_drug_levels, new_drug_levels)\n",
        "\n",
        "print(f\"T-Statistic: {results['t_statistic']:.4f}\")\n",
        "print(f\"Degrees of Freedom: {results['degrees_of_freedom']:.2f}\")\n",
        "print(f\"P-Value: {results['p_value']:.4f}\")\n",
        "\n",
        "alpha = 0.05\n",
        "if results['p_value'] < alpha:\n",
        "    print(\"Reject the null hypothesis: The new drug is significantly more effective in reducing cholesterol levels than the existing drug.\")\n",
        "else:\n",
        "    print(\"Fail to reject the null hypothesis: There is not enough evidence to say the new drug is more effective than the existing drug.\")\n"
      ],
      "metadata": {
        "colab": {
          "base_uri": "https://localhost:8080/"
        },
        "id": "wrR_fehc3_jt",
        "outputId": "934c0158-dfc5-4da2-a942-967238e08256"
      },
      "execution_count": 32,
      "outputs": [
        {
          "output_type": "stream",
          "name": "stdout",
          "text": [
            "T-Statistic: 4.1405\n",
            "Degrees of Freedom: 17.87\n",
            "P-Value: 0.0006\n",
            "Reject the null hypothesis: The new drug is significantly more effective in reducing cholesterol levels than the existing drug.\n"
          ]
        }
      ]
    },
    {
      "cell_type": "markdown",
      "source": [
        "17. A school district introduces an educational intervention program to improve math scores. Write a Python\n",
        "function to analyze pre- and post-intervention test scores, calculating the t-statistic and p-value to\n",
        "determine if the intervention had a significant impact.\n",
        "\n",
        "\n",
        "Use the following data of test score:\n",
        "\n",
        "\n",
        "  ```python\n",
        "\n",
        "  pre_intervention_scores = [80, 85, 90, 75, 88, 82, 92, 78, 85, 87]\n",
        "\n",
        "  post_intervention_scores = [90, 92, 88, 92, 95, 91, 96, 93, 89, 93]"
      ],
      "metadata": {
        "id": "U_tp9Jyr5lR0"
      }
    },
    {
      "cell_type": "code",
      "source": [
        "import numpy as np\n",
        "from scipy import stats\n",
        "\n",
        "def analyze_intervention(pre_intervention_scores, post_intervention_scores):\n",
        "    \"\"\"\n",
        "    Analyze the impact of an educational intervention on test scores using a paired sample t-test.\n",
        "\n",
        "    Parameters:\n",
        "    pre_intervention_scores (list): Test scores before the intervention.\n",
        "    post_intervention_scores (list): Test scores after the intervention.\n",
        "\n",
        "    Returns:\n",
        "    dict: A dictionary containing the t-statistic, degrees of freedom, and p-value.\n",
        "    \"\"\"\n",
        "\n",
        "    pre_scores = np.array(pre_intervention_scores)\n",
        "    post_scores = np.array(post_intervention_scores)\n",
        "\n",
        "    differences = post_scores - pre_scores\n",
        "\n",
        "    mean_diff = np.mean(differences)\n",
        "    std_diff = np.std(differences, ddof=1)\n",
        "    n = len(differences)\n",
        "\n",
        "    t_statistic = mean_diff / (std_diff / np.sqrt(n))\n",
        "\n",
        "    degrees_of_freedom = n - 1\n",
        "\n",
        "    p_value = 2 * stats.t.cdf(-abs(t_statistic), df=degrees_of_freedom)\n",
        "\n",
        "    return {\n",
        "        't_statistic': t_statistic,\n",
        "        'degrees_of_freedom': degrees_of_freedom,\n",
        "        'p_value': p_value\n",
        "    }\n",
        "\n",
        "\n",
        "pre_intervention_scores = [80, 85, 90, 75, 88, 82, 92, 78, 85, 87]\n",
        "post_intervention_scores = [90, 92, 88, 92, 95, 91, 96, 93, 89, 93]\n",
        "\n",
        "results = analyze_intervention(pre_intervention_scores, post_intervention_scores)\n",
        "\n",
        "print(f\"T-Statistic: {results['t_statistic']:.4f}\")\n",
        "print(f\"Degrees of Freedom: {results['degrees_of_freedom']:.2f}\")\n",
        "print(f\"P-Value: {results['p_value']:.4f}\")\n",
        "\n",
        "alpha = 0.05\n",
        "if results['p_value'] < alpha:\n",
        "    print(\"Reject the null hypothesis: The intervention had a significant impact on improving test scores.\")\n",
        "else:\n",
        "    print(\"Fail to reject the null hypothesis: There is not enough evidence to say the intervention had a significant impact on test scores.\")\n"
      ],
      "metadata": {
        "colab": {
          "base_uri": "https://localhost:8080/"
        },
        "id": "ify5z_cI6spO",
        "outputId": "3ab66e9c-5edf-4710-eff0-0ccb2329d9f6"
      },
      "execution_count": 33,
      "outputs": [
        {
          "output_type": "stream",
          "name": "stdout",
          "text": [
            "T-Statistic: 4.4284\n",
            "Degrees of Freedom: 9.00\n",
            "P-Value: 0.0017\n",
            "Reject the null hypothesis: The intervention had a significant impact on improving test scores.\n"
          ]
        }
      ]
    },
    {
      "cell_type": "markdown",
      "source": [
        "18) An HR department wants to investigate in there's a gender-based salary gap within the company. Develop a program to analyze salary data, calculate the t-statistic, and determine in there's a statistically\n",
        "significant difference between the average salaries of male and female employees.\n",
        "\n",
        "\n",
        "Use the below code to generate synthetic data:\n",
        "```python\n",
        "\n",
        "# Generate synthetic salary data for male and female employees\n",
        "\n",
        "np.random.seed(0)  # For reproducibility\n",
        "\n",
        "male_salaries = np.random.normal(loc=50000, scale=10000, size=20)\n",
        "\n",
        "female_salaries = np.random.normal(loc=55000, scale=9000, size=20)"
      ],
      "metadata": {
        "id": "2OnqJCoR9d4a"
      }
    },
    {
      "cell_type": "code",
      "source": [
        "import numpy as np\n",
        "from scipy import stats\n",
        "\n",
        "def analyze_salary_gap(male_salaries, female_salaries):\n",
        "    \"\"\"\n",
        "    Analyze the salary gap between male and female employees using an independent two-sample t-test.\n",
        "\n",
        "    Parameters:\n",
        "    male_salaries (array): Salaries of male employees.\n",
        "    female_salaries (array): Salaries of female employees.\n",
        "\n",
        "    Returns:\n",
        "    dict: A dictionary containing the t-statistic, degrees of freedom, and p-value.\n",
        "    \"\"\"\n",
        "\n",
        "    male = np.array(male_salaries)\n",
        "    female = np.array(female_salaries)\n",
        "\n",
        "    mean_male = np.mean(male)\n",
        "    std_male = np.std(male, ddof=1)\n",
        "    n_male = len(male)\n",
        "\n",
        "    mean_female = np.mean(female)\n",
        "    std_female = np.std(female, ddof=1)\n",
        "    n_female = len(female)\n",
        "\n",
        "    se_male = std_male / np.sqrt(n_male)\n",
        "    se_female = std_female / np.sqrt(n_female)\n",
        "    pooled_se = np.sqrt(se_male**2 + se_female**2)\n",
        "    t_statistic = (mean_male - mean_female) / pooled_se\n",
        "\n",
        "    df_numerator = (se_male**2 + se_female**2)**2\n",
        "    df_denominator = ((se_male**2)**2 / (n_male - 1)) + ((se_female**2)**2 / (n_female - 1))\n",
        "    degrees_of_freedom = df_numerator / df_denominator\n",
        "\n",
        "    p_value = 2 * stats.t.cdf(-abs(t_statistic), df=degrees_of_freedom)\n",
        "\n",
        "    return {\n",
        "        't_statistic': t_statistic,\n",
        "        'degrees_of_freedom': degrees_of_freedom,\n",
        "        'p_value': p_value\n",
        "    }\n",
        "\n",
        "np.random.seed(0)\n",
        "\n",
        "male_salaries = np.random.normal(loc=50000, scale=10000, size=20)\n",
        "female_salaries = np.random.normal(loc=55000, scale=9000, size=20)\n",
        "\n",
        "results = analyze_salary_gap(male_salaries, female_salaries)\n",
        "\n",
        "print(f\"T-Statistic: {results['t_statistic']:.4f}\")\n",
        "print(f\"Degrees of Freedom: {results['degrees_of_freedom']:.2f}\")\n",
        "print(f\"P-Value: {results['p_value']:.4f}\")\n",
        "\n",
        "alpha = 0.05\n",
        "if results['p_value'] < alpha:\n",
        "    print(\"Reject the null hypothesis: There is a significant gender-based salary gap.\")\n",
        "else:\n",
        "    print(\"Fail to reject the null hypothesis: There is not enough evidence to say there is a significant gender-based salary gap.\")\n"
      ],
      "metadata": {
        "colab": {
          "base_uri": "https://localhost:8080/"
        },
        "id": "QoBsqk3A_I9y",
        "outputId": "52871f1d-a9f9-4605-b01e-10bced618791"
      },
      "execution_count": 34,
      "outputs": [
        {
          "output_type": "stream",
          "name": "stdout",
          "text": [
            "T-Statistic: 0.0611\n",
            "Degrees of Freedom: 36.17\n",
            "P-Value: 0.9516\n",
            "Fail to reject the null hypothesis: There is not enough evidence to say there is a significant gender-based salary gap.\n"
          ]
        }
      ]
    },
    {
      "cell_type": "markdown",
      "source": [
        "19. A manufacturer produces two different versions of a product and wants to compare their quality scores.\n",
        "Create a Python @unction to analyze quality assessment data, calculate the t-statistic, and decide\n",
        "whether there's a signi@icant difference in quality between the two versions.\n",
        "\n",
        "\n",
        "Use the following data:\n",
        "```python\n",
        "\n",
        "version1_scores = [85, 88, 82, 89, 87, 84, 90, 88, 85, 86, 91, 83, 87, 84, 89, 86, 84, 88, 85, 86, 89, 90, 87, 88, 85]\n",
        "\n",
        "version2_scores = [80, 78, 83, 81, 79, 82, 76, 80, 78, 81, 77, 82, 80, 79, 82, 79, 80, 81, 79, 82, 79, 78, 80, 81, 82]\n",
        "\n",
        "```"
      ],
      "metadata": {
        "id": "-kSyZ7M8ATvi"
      }
    },
    {
      "cell_type": "code",
      "source": [
        "import numpy as np\n",
        "from scipy import stats\n",
        "\n",
        "def analyze_quality_scores(version1_scores, version2_scores):\n",
        "    \"\"\"\n",
        "    Analyze the quality scores of two product versions using an independent two-sample t-test.\n",
        "\n",
        "    Parameters:\n",
        "    version1_scores (list): Quality scores for version 1.\n",
        "    version2_scores (list): Quality scores for version 2.\n",
        "\n",
        "    Returns:\n",
        "    dict: A dictionary containing the t-statistic, degrees of freedom, and p-value.\n",
        "    \"\"\"\n",
        "\n",
        "    version1 = np.array(version1_scores)\n",
        "    version2 = np.array(version2_scores)\n",
        "\n",
        "    mean_v1 = np.mean(version1)\n",
        "    std_v1 = np.std(version1, ddof=1)\n",
        "    n_v1 = len(version1)\n",
        "\n",
        "    mean_v2 = np.mean(version2)\n",
        "    std_v2 = np.std(version2, ddof=1)\n",
        "    n_v2 = len(version2)\n",
        "\n",
        "    se_v1 = std_v1 / np.sqrt(n_v1)\n",
        "    se_v2 = std_v2 / np.sqrt(n_v2)\n",
        "    pooled_se = np.sqrt(se_v1**2 + se_v2**2)\n",
        "    t_statistic = (mean_v1 - mean_v2) / pooled_se\n",
        "\n",
        "    df_numerator = (se_v1**2 + se_v2**2)**2\n",
        "    df_denominator = ((se_v1**2)**2 / (n_v1 - 1)) + ((se_v2**2)**2 / (n_v2 - 1))\n",
        "    degrees_of_freedom = df_numerator / df_denominator\n",
        "\n",
        "    p_value = 2 * stats.t.cdf(-abs(t_statistic), df=degrees_of_freedom)\n",
        "\n",
        "    return {\n",
        "        't_statistic': t_statistic,\n",
        "        'degrees_of_freedom': degrees_of_freedom,\n",
        "        'p_value': p_value\n",
        "    }\n",
        "\n",
        "version1_scores = [85, 88, 82, 89, 87, 84, 90, 88, 85, 86, 91, 83, 87, 84, 89, 86, 84, 88, 85, 86, 89, 90, 87, 88, 85]\n",
        "version2_scores = [80, 78, 83, 81, 79, 82, 76, 80, 78, 81, 77, 82, 80, 79, 82, 79, 80, 81, 79, 82, 79, 78, 80, 81, 82]\n",
        "\n",
        "results = analyze_quality_scores(version1_scores, version2_scores)\n",
        "\n",
        "print(f\"T-Statistic: {results['t_statistic']:.4f}\")\n",
        "print(f\"Degrees of Freedom: {results['degrees_of_freedom']:.2f}\")\n",
        "print(f\"P-Value: {results['p_value']:.4f}\")\n",
        "\n",
        "alpha = 0.05\n",
        "if results['p_value'] < alpha:\n",
        "    print(\"Reject the null hypothesis: There is a significant difference in quality between the two product versions.\")\n",
        "else:\n",
        "    print(\"Fail to reject the null hypothesis: There is not enough evidence to say there is a significant difference in quality between the two product versions.\")\n"
      ],
      "metadata": {
        "colab": {
          "base_uri": "https://localhost:8080/"
        },
        "id": "TYwXeqvEBiKz",
        "outputId": "1ead60fe-c072-447a-bb5e-81688a32003c"
      },
      "execution_count": 35,
      "outputs": [
        {
          "output_type": "stream",
          "name": "stdout",
          "text": [
            "T-Statistic: 11.3258\n",
            "Degrees of Freedom: 44.47\n",
            "P-Value: 0.0000\n",
            "Reject the null hypothesis: There is a significant difference in quality between the two product versions.\n"
          ]
        }
      ]
    },
    {
      "cell_type": "markdown",
      "source": [
        " 20. A restaurant chain collects customer satisfaction scores for two different branches. Write a program to analyze the scores, calculate the t-statistic, and determine if there's a statistically significant difference in\n",
        "customer satisfaction between the branches.\n",
        "\n",
        "\n",
        "Use the below data of scores:\n",
        "\n",
        "  ```python\n",
        "\n",
        "branch_a_scores = [4, 5, 3, 4, 5, 4, 5, 3, 4, 4, 5, 4, 4, 3, 4, 5, 5, 4, 3, 4, 5, 4, 3, 5, 4, 4, 5, 3, 4, 5, 4]\n",
        "\n",
        "branch_b_scores = [3, 4, 2, 3, 4, 3, 4, 2, 3, 3, 4, 3, 3, 2, 3, 4, 4, 3, 2, 3, 4, 3, 2, 4, 3, 3, 4, 2, 3, 4, 3]"
      ],
      "metadata": {
        "id": "8nP1KVGpCBZM"
      }
    },
    {
      "cell_type": "code",
      "source": [
        "import numpy as np\n",
        "from scipy import stats\n",
        "\n",
        "def analyze_customer_satisfaction(branch_a_scores, branch_b_scores):\n",
        "    \"\"\"\n",
        "    Analyze the customer satisfaction scores between two branches using an independent two-sample t-test.\n",
        "\n",
        "    Parameters:\n",
        "    branch_a_scores (list): Customer satisfaction scores for branch A.\n",
        "    branch_b_scores (list): Customer satisfaction scores for branch B.\n",
        "\n",
        "    Returns:\n",
        "    dict: A dictionary containing the t-statistic, degrees of freedom, and p-value.\n",
        "    \"\"\"\n",
        "\n",
        "    branch_a = np.array(branch_a_scores)\n",
        "    branch_b = np.array(branch_b_scores)\n",
        "\n",
        "    mean_a = np.mean(branch_a)\n",
        "    std_a = np.std(branch_a, ddof=1)\n",
        "    n_a = len(branch_a)\n",
        "\n",
        "    mean_b = np.mean(branch_b)\n",
        "    std_b = np.std(branch_b, ddof=1)\n",
        "    n_b = len(branch_b)\n",
        "\n",
        "    se_a = std_a / np.sqrt(n_a)\n",
        "    se_b = std_b / np.sqrt(n_b)\n",
        "    pooled_se = np.sqrt(se_a**2 + se_b**2)\n",
        "    t_statistic = (mean_a - mean_b) / pooled_se\n",
        "\n",
        "    df_numerator = (se_a**2 + se_b**2)**2\n",
        "    df_denominator = ((se_a**2)**2 / (n_a - 1)) + ((se_b**2)**2 / (n_b - 1))\n",
        "    degrees_of_freedom = df_numerator / df_denominator\n",
        "\n",
        "    p_value = 2 * stats.t.cdf(-abs(t_statistic), df=degrees_of_freedom)\n",
        "\n",
        "    return {\n",
        "        't_statistic': t_statistic,\n",
        "        'degrees_of_freedom': degrees_of_freedom,\n",
        "        'p_value': p_value\n",
        "    }\n",
        "\n",
        "branch_a_scores = [4, 5, 3, 4, 5, 4, 5, 3, 4, 4, 5, 4, 4, 3, 4, 5, 5, 4, 3, 4, 5, 4, 3, 5, 4, 4, 5, 3, 4, 5, 4]\n",
        "branch_b_scores = [3, 4, 2, 3, 4, 3, 4, 2, 3, 3, 4, 3, 3, 2, 3, 4, 4, 3, 2, 3, 4, 3, 2, 4, 3, 3, 4, 2, 3, 4, 3]\n",
        "\n",
        "results = analyze_customer_satisfaction(branch_a_scores, branch_b_scores)\n",
        "\n",
        "print(f\"T-Statistic: {results['t_statistic']:.4f}\")\n",
        "print(f\"Degrees of Freedom: {results['degrees_of_freedom']:.2f}\")\n",
        "print(f\"P-Value: {results['p_value']:.4f}\")\n",
        "\n",
        "alpha = 0.05\n",
        "if results['p_value'] < alpha:\n",
        "    print(\"Reject the null hypothesis: There is a significant difference in customer satisfaction between the two branches.\")\n",
        "else:\n",
        "    print(\"Fail to reject the null hypothesis: There is not enough evidence to say there is a significant difference in customer satisfaction between the two branches.\")\n"
      ],
      "metadata": {
        "colab": {
          "base_uri": "https://localhost:8080/"
        },
        "id": "0NIEW85qDBp-",
        "outputId": "ceda7a83-2003-4fd2-fb72-7e0fbbb35d20"
      },
      "execution_count": 36,
      "outputs": [
        {
          "output_type": "stream",
          "name": "stdout",
          "text": [
            "T-Statistic: 5.4801\n",
            "Degrees of Freedom: 60.00\n",
            "P-Value: 0.0000\n",
            "Reject the null hypothesis: There is a significant difference in customer satisfaction between the two branches.\n"
          ]
        }
      ]
    },
    {
      "cell_type": "markdown",
      "source": [
        "21) A political analyst wants to determine if there is a significant association between age groups and voter\n",
        "preferences FCandidate A or Candidate B). They collect data from a sample o@ 500 voters and classify\n",
        "them into di@@erent age groups and candidate pre@erences. Per@orm a Chi-Square test to determine i@\n",
        "there is a signi@icant association between age groups and voter pre@erences.\n",
        "\n",
        "\n",
        "Use the below code to generate data:\n",
        "\n",
        "```python\n",
        "\n",
        "np.random.seed(0)\n",
        "\n",
        "age_groups = np.random.choice([ 18 30 , 31 50 , 51+', 51+'], size=30)\n",
        "\n",
        "voter_preferences = np.random.choice(['Candidate A', 'Candidate B'], size=30)"
      ],
      "metadata": {
        "id": "IGFa7BJtDpY8"
      }
    },
    {
      "cell_type": "code",
      "source": [
        "import numpy as np\n",
        "import pandas as pd\n",
        "from scipy import stats\n",
        "\n",
        "np.random.seed(0)\n",
        "\n",
        "age_groups = np.random.choice(['18-30', '31-50', '51+', '51+'], size=30)\n",
        "voter_preferences = np.random.choice(['Candidate A', 'Candidate B'], size=30)\n",
        "\n",
        "data = pd.DataFrame({'Age Group': age_groups, 'Voter Preference': voter_preferences})\n",
        "\n",
        "contingency_table = pd.crosstab(data['Age Group'], data['Voter Preference'])\n",
        "\n",
        "chi2_statistic, p_value, dof, expected = stats.chi2_contingency(contingency_table)\n",
        "\n",
        "print(\"Contingency Table:\")\n",
        "print(contingency_table)\n",
        "print(\"\\nChi-Square Statistic:\", chi2_statistic)\n",
        "print(\"Degrees of Freedom:\", dof)\n",
        "print(\"P-Value:\", p_value)\n",
        "\n",
        "alpha = 0.05\n",
        "if p_value < alpha:\n",
        "    print(\"Reject the null hypothesis: There is a significant association between age groups and voter preferences.\")\n",
        "else:\n",
        "    print(\"Fail to reject the null hypothesis: There is not enough evidence to suggest a significant association between age groups and voter preferences.\")\n"
      ],
      "metadata": {
        "colab": {
          "base_uri": "https://localhost:8080/"
        },
        "id": "raIJO_QCEOi7",
        "outputId": "6f7b5c65-32b1-4edf-f0a0-e8907b1c87cc"
      },
      "execution_count": 37,
      "outputs": [
        {
          "output_type": "stream",
          "name": "stdout",
          "text": [
            "Contingency Table:\n",
            "Voter Preference  Candidate A  Candidate B\n",
            "Age Group                                 \n",
            "18-30                       2            6\n",
            "31-50                       4            4\n",
            "51+                         5            9\n",
            "\n",
            "Chi-Square Statistic: 1.086807928913192\n",
            "Degrees of Freedom: 2\n",
            "P-Value: 0.5807679703526951\n",
            "Fail to reject the null hypothesis: There is not enough evidence to suggest a significant association between age groups and voter preferences.\n"
          ]
        }
      ]
    },
    {
      "cell_type": "markdown",
      "source": [
        " 22. A company conducted a customer satisfaction survey to determine if there is a significant relationship\n",
        "between product satisfaction levels (Satisfied, Neutral, Dissatisfied) and the region where customers are\n",
        "located (East, West, North, South). The survey data is summarized in a contingency table. Conduct a Chi-Square test to determine if there is a significant relationship between product satisfaction levels and\n",
        "customer regions.\n",
        "\n",
        "\n",
        "Sample data:\n",
        "\n",
        "```python\n",
        "\n",
        "#Sample data: Product satisfaction levels (rows) vs. Customer regions (columns)\n",
        "\n",
        "data = np.array([[50, 30, 40, 20], [30, 40, 30, 50], [20, 30, 40, 30]])\n",
        "\n",
        "```"
      ],
      "metadata": {
        "id": "C8Ab0htOEvsX"
      }
    },
    {
      "cell_type": "code",
      "source": [
        "import numpy as np\n",
        "from scipy import stats\n",
        "\n",
        "data = np.array([[50, 30, 40, 20],\n",
        "                 [30, 40, 30, 50],\n",
        "                 [20, 30, 40, 30]])\n",
        "\n",
        "chi2_statistic, p_value, dof, expected = stats.chi2_contingency(data)\n",
        "\n",
        "print(\"Contingency Table:\")\n",
        "print(data)\n",
        "print(\"\\nChi-Square Statistic:\", chi2_statistic)\n",
        "print(\"Degrees of Freedom:\", dof)\n",
        "print(\"P-Value:\", p_value)\n",
        "\n",
        "alpha = 0.05\n",
        "if p_value < alpha:\n",
        "    print(\"Reject the null hypothesis: There is a significant relationship between product satisfaction levels and customer regions.\")\n",
        "else:\n",
        "    print(\"Fail to reject the null hypothesis: There is not enough evidence to suggest a significant relationship between product satisfaction levels and customer regions.\")\n"
      ],
      "metadata": {
        "colab": {
          "base_uri": "https://localhost:8080/"
        },
        "id": "Tpl7DJkjFZJA",
        "outputId": "c1201c37-6f66-4a27-84fc-570c583028fb"
      },
      "execution_count": 38,
      "outputs": [
        {
          "output_type": "stream",
          "name": "stdout",
          "text": [
            "Contingency Table:\n",
            "[[50 30 40 20]\n",
            " [30 40 30 50]\n",
            " [20 30 40 30]]\n",
            "\n",
            "Chi-Square Statistic: 27.777056277056275\n",
            "Degrees of Freedom: 6\n",
            "P-Value: 0.00010349448486004387\n",
            "Reject the null hypothesis: There is a significant relationship between product satisfaction levels and customer regions.\n"
          ]
        }
      ]
    },
    {
      "cell_type": "markdown",
      "source": [
        "23. A company implemented an employee training program to improve job performance (Effective, Neutral,\n",
        "Ineffective). After the training, they collected data from a sample of employees and classified them based\n",
        "on their job performance before and after the training. Perform a Chi-Square test to determine if there is a\n",
        "significant difference between job performance levels before and after the training.\n",
        "\n",
        "\n",
        "Sample data:\n",
        "\n",
        "```python\n",
        "\n",
        "# Sample data: Job performance levels before (rows) and after (columns) training\n",
        "\n",
        "data = np.array([[50, 30, 20], [30, 40, 30], [20, 30, 40]])\n",
        "```"
      ],
      "metadata": {
        "id": "vL9dLQWQFpO4"
      }
    },
    {
      "cell_type": "code",
      "source": [
        "import numpy as np\n",
        "from scipy import stats\n",
        "\n",
        "data = np.array([[50, 30, 20],\n",
        "                 [30, 40, 30],\n",
        "                 [20, 30, 40]])\n",
        "\n",
        "chi2_statistic, p_value, dof, expected = stats.chi2_contingency(data)\n",
        "\n",
        "print(\"Contingency Table:\")\n",
        "print(data)\n",
        "print(\"\\nChi-Square Statistic:\", chi2_statistic)\n",
        "print(\"Degrees of Freedom:\", dof)\n",
        "print(\"P-Value:\", p_value)\n",
        "\n",
        "alpha = 0.05\n",
        "if p_value < alpha:\n",
        "    print(\"Reject the null hypothesis: There is a significant difference in job performance levels before and after the training.\")\n",
        "else:\n",
        "    print(\"Fail to reject the null hypothesis: There is not enough evidence to suggest a significant difference in job performance levels before and after the training.\")\n"
      ],
      "metadata": {
        "colab": {
          "base_uri": "https://localhost:8080/"
        },
        "id": "RqkTIPgKF-2m",
        "outputId": "c37b65b9-2ee2-46d1-ce15-c019187c0a31"
      },
      "execution_count": 39,
      "outputs": [
        {
          "output_type": "stream",
          "name": "stdout",
          "text": [
            "Contingency Table:\n",
            "[[50 30 20]\n",
            " [30 40 30]\n",
            " [20 30 40]]\n",
            "\n",
            "Chi-Square Statistic: 22.161728395061726\n",
            "Degrees of Freedom: 4\n",
            "P-Value: 0.00018609719479882557\n",
            "Reject the null hypothesis: There is a significant difference in job performance levels before and after the training.\n"
          ]
        }
      ]
    },
    {
      "cell_type": "markdown",
      "source": [
        "24. A company produces three different versions of a product: Standard, Premium, and Deluxe. The\n",
        "company wants to determine if there is a significant difference in customer satisfaction scores among the\n",
        "three product versions. They conducted a survey and collected customer satisfaction scores for each\n",
        "version from a random sample of customers. Perform an ANOVA test to determine if there is a significant\n",
        "difference in customer satisfaction scores.\n",
        "\n",
        "\n",
        "  Use the following data:\n",
        "\n",
        "  ```python\n",
        "\n",
        "  # Sample data: Customer satisfaction scores for each product version\n",
        "\n",
        "  standard_scores = [80, 85, 90, 78, 88, 82, 92, 78, 85, 87]\n",
        "\n",
        "  premium_scores = [90, 92, 88, 92, 95, 91, 96, 93, 89, 93]\n",
        "\n",
        "  deluxe_scores = [95, 98, 92, 97, 96, 94, 98, 97, 92, 99]\n",
        "\n",
        "  ```"
      ],
      "metadata": {
        "id": "OdfE-2weGbT5"
      }
    },
    {
      "cell_type": "code",
      "source": [
        "import numpy as np\n",
        "from scipy import stats\n",
        "\n",
        "standard_scores = [80, 85, 90, 78, 88, 82, 92, 78, 85, 87]\n",
        "premium_scores = [90, 92, 88, 92, 95, 91, 96, 93, 89, 93]\n",
        "deluxe_scores = [95, 98, 92, 97, 96, 94, 98, 97, 92, 99]\n",
        "\n",
        "f_statistic, p_value = stats.f_oneway(standard_scores, premium_scores, deluxe_scores)\n",
        "\n",
        "print(\"F-Statistic:\", f_statistic)\n",
        "print(\"P-Value:\", p_value)\n",
        "\n",
        "alpha = 0.05\n",
        "if p_value < alpha:\n",
        "    print(\"Reject the null hypothesis: There is a significant difference in customer satisfaction scores among the product versions.\")\n",
        "else:\n",
        "    print(\"Fail to reject the null hypothesis: There is not enough evidence to suggest a significant difference in customer satisfaction scores among the product versions.\")\n"
      ],
      "metadata": {
        "colab": {
          "base_uri": "https://localhost:8080/"
        },
        "id": "6SSJ2ZzZG2ze",
        "outputId": "670caadd-fbd1-486e-8736-d5cf7f9cce65"
      },
      "execution_count": 40,
      "outputs": [
        {
          "output_type": "stream",
          "name": "stdout",
          "text": [
            "F-Statistic: 27.03556231003039\n",
            "P-Value: 3.5786328857349003e-07\n",
            "Reject the null hypothesis: There is a significant difference in customer satisfaction scores among the product versions.\n"
          ]
        }
      ]
    }
  ]
}